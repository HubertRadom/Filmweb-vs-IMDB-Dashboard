{
 "cells": [
  {
   "cell_type": "code",
   "execution_count": 1,
   "metadata": {},
   "outputs": [],
   "source": [
    "import numpy as np\n",
    "import pandas as pd\n",
    "import os\n",
    "import matplotlib.pyplot as plt"
   ]
  },
  {
   "cell_type": "code",
   "execution_count": 2,
   "metadata": {},
   "outputs": [],
   "source": [
    "from cleanin import clean_titles, first_genre_filmweb, down_sample_both_dfs"
   ]
  },
  {
   "cell_type": "code",
   "execution_count": 3,
   "metadata": {},
   "outputs": [
    {
     "name": "stdout",
     "output_type": "stream",
     "text": [
      "test_multiple (__main__.GenreTakerTest) ... ok\n",
      "test_single (__main__.GenreTakerTest) ... ok\n",
      "test_single_larger (__main__.GenreTakerTest) ... ok\n",
      "test_single_multiple (__main__.GenreTakerTest) ... ok\n",
      "test_equal (__main__.SamplingTest) ... ok\n",
      "test_not_equal (__main__.SamplingTest) ... ok\n",
      "test_all (__main__.TitleCleaningTest) ... ok\n",
      "test_proper (__main__.TitleCleaningTest) ... ok\n",
      "test_upper (__main__.TitleCleaningTest) ... ok\n",
      "\n",
      "----------------------------------------------------------------------\n",
      "Ran 9 tests in 0.027s\n",
      "\n",
      "OK\n"
     ]
    }
   ],
   "source": [
    "## test functions before running\n",
    "!python test_function.py -v"
   ]
  },
  {
   "cell_type": "markdown",
   "metadata": {},
   "source": [
    "### EDA + cleaning"
   ]
  },
  {
   "cell_type": "code",
   "execution_count": 4,
   "metadata": {},
   "outputs": [
    {
     "data": {
      "text/html": [
       "<div>\n",
       "<style scoped>\n",
       "    .dataframe tbody tr th:only-of-type {\n",
       "        vertical-align: middle;\n",
       "    }\n",
       "\n",
       "    .dataframe tbody tr th {\n",
       "        vertical-align: top;\n",
       "    }\n",
       "\n",
       "    .dataframe thead th {\n",
       "        text-align: right;\n",
       "    }\n",
       "</style>\n",
       "<table border=\"1\" class=\"dataframe\">\n",
       "  <thead>\n",
       "    <tr style=\"text-align: right;\">\n",
       "      <th></th>\n",
       "      <th>title</th>\n",
       "      <th>originalTitle</th>\n",
       "      <th>year</th>\n",
       "      <th>description</th>\n",
       "      <th>genre</th>\n",
       "    </tr>\n",
       "  </thead>\n",
       "  <tbody>\n",
       "    <tr>\n",
       "      <th>0</th>\n",
       "      <td>Zielona mila</td>\n",
       "      <td>The Green Mile</td>\n",
       "      <td>1999</td>\n",
       "      <td>Emerytowany strażnik więzienny opowiada przyja...</td>\n",
       "      <td>Dramat</td>\n",
       "    </tr>\n",
       "    <tr>\n",
       "      <th>1</th>\n",
       "      <td>Skazani na Shawshank</td>\n",
       "      <td>The Shawshank Redemption</td>\n",
       "      <td>1994</td>\n",
       "      <td>Adaptacja opowiadania Stephena Kinga. Niesłusz...</td>\n",
       "      <td>Dramat</td>\n",
       "    </tr>\n",
       "    <tr>\n",
       "      <th>2</th>\n",
       "      <td>Forrest Gump</td>\n",
       "      <td>NaN</td>\n",
       "      <td>1994</td>\n",
       "      <td>Historia życia Forresta, chłopca o niskim ilor...</td>\n",
       "      <td>Dramat, Komedia</td>\n",
       "    </tr>\n",
       "    <tr>\n",
       "      <th>3</th>\n",
       "      <td>Leon zawodowiec</td>\n",
       "      <td>Léon</td>\n",
       "      <td>1994</td>\n",
       "      <td>Płatny morderca ratuje dwunastoletnią dziewczy...</td>\n",
       "      <td>Dramat, Kryminał</td>\n",
       "    </tr>\n",
       "    <tr>\n",
       "      <th>4</th>\n",
       "      <td>Requiem dla snu</td>\n",
       "      <td>Requiem for a Dream</td>\n",
       "      <td>2000</td>\n",
       "      <td>Historia czwórki bohaterów, dla których używki...</td>\n",
       "      <td>Dramat</td>\n",
       "    </tr>\n",
       "  </tbody>\n",
       "</table>\n",
       "</div>"
      ],
      "text/plain": [
       "                  title             originalTitle  year  \\\n",
       "0          Zielona mila            The Green Mile  1999   \n",
       "1  Skazani na Shawshank  The Shawshank Redemption  1994   \n",
       "2          Forrest Gump                       NaN  1994   \n",
       "3       Leon zawodowiec                      Léon  1994   \n",
       "4       Requiem dla snu       Requiem for a Dream  2000   \n",
       "\n",
       "                                         description             genre  \n",
       "0  Emerytowany strażnik więzienny opowiada przyja...            Dramat  \n",
       "1  Adaptacja opowiadania Stephena Kinga. Niesłusz...            Dramat  \n",
       "2  Historia życia Forresta, chłopca o niskim ilor...   Dramat, Komedia  \n",
       "3  Płatny morderca ratuje dwunastoletnią dziewczy...  Dramat, Kryminał  \n",
       "4  Historia czwórki bohaterów, dla których używki...            Dramat  "
      ]
     },
     "execution_count": 4,
     "metadata": {},
     "output_type": "execute_result"
    }
   ],
   "source": [
    "## Read filmweb data\n",
    "df_filmweb = pd.read_csv(\"data/filmweb.csv\")\n",
    "df_filmweb.head()"
   ]
  },
  {
   "cell_type": "code",
   "execution_count": 5,
   "metadata": {},
   "outputs": [],
   "source": [
    "## Read train imdb data\n",
    "df_imdb_1 = pd.read_csv('data/train_data.txt', sep=\":::\", header=None, engine='python')\n",
    "df_imdb_1.columns = ['id', 'title', 'genre', 'description']\n",
    "df_imdb_1 = df_imdb_1.drop(columns=[\"id\"])"
   ]
  },
  {
   "cell_type": "code",
   "execution_count": 6,
   "metadata": {},
   "outputs": [],
   "source": [
    "## Read test imdb data\n",
    "df_imdb_2 = pd.read_csv('data/test_data_solution.txt', sep=\":::\", header=None, engine='python')\n",
    "df_imdb_2.columns = ['id', 'title', 'genre', 'description']\n",
    "df_imdb_2 = df_imdb_2.drop(columns=[\"id\"])"
   ]
  },
  {
   "cell_type": "code",
   "execution_count": 7,
   "metadata": {},
   "outputs": [],
   "source": [
    "## Combine the imdb datasets to create one big dataset\n",
    "df_imdb_all = pd.concat([df_imdb_1, df_imdb_2], axis=0).reset_index(drop=True)"
   ]
  },
  {
   "cell_type": "code",
   "execution_count": 8,
   "metadata": {},
   "outputs": [
    {
     "name": "stdout",
     "output_type": "stream",
     "text": [
      "Number of samples in filmweb dataset 9,951\n",
      "Number of samples in imdb dataset 108,414\n"
     ]
    }
   ],
   "source": [
    "## Compare the sizes of two datasets\n",
    "print(f\"Number of samples in filmweb dataset {df_filmweb.shape[0]:,}\")\n",
    "print(f\"Number of samples in imdb dataset {df_imdb_all.shape[0]:,}\")"
   ]
  },
  {
   "cell_type": "code",
   "execution_count": 9,
   "metadata": {},
   "outputs": [],
   "source": [
    "## Check for Nan's"
   ]
  },
  {
   "cell_type": "code",
   "execution_count": 10,
   "metadata": {},
   "outputs": [
    {
     "data": {
      "text/plain": [
       "title               0\n",
       "originalTitle    2374\n",
       "year                0\n",
       "description         0\n",
       "genre               0\n",
       "dtype: int64"
      ]
     },
     "execution_count": 10,
     "metadata": {},
     "output_type": "execute_result"
    }
   ],
   "source": [
    "## We can get the \"originalTitle\" from the title column\n",
    "## Because if the title is the same as originalTitle then the second column\n",
    "## has a NaN as an entry\n",
    "df_filmweb.isna().sum()"
   ]
  },
  {
   "cell_type": "code",
   "execution_count": 11,
   "metadata": {},
   "outputs": [
    {
     "data": {
      "text/plain": [
       "title          0\n",
       "genre          0\n",
       "description    0\n",
       "dtype: int64"
      ]
     },
     "execution_count": 11,
     "metadata": {},
     "output_type": "execute_result"
    }
   ],
   "source": [
    "df_imdb_all.isna().sum()"
   ]
  },
  {
   "cell_type": "code",
   "execution_count": 12,
   "metadata": {},
   "outputs": [
    {
     "name": "stderr",
     "output_type": "stream",
     "text": [
      "/tmp/ipykernel_12105/3073694373.py:2: SettingWithCopyWarning: \n",
      "A value is trying to be set on a copy of a slice from a DataFrame\n",
      "\n",
      "See the caveats in the documentation: https://pandas.pydata.org/pandas-docs/stable/user_guide/indexing.html#returning-a-view-versus-a-copy\n",
      "  df_filmweb[\"originalTitle\"][df_filmweb[\"originalTitle\"].isna()] = df_filmweb[\"title\"][df_filmweb[\"originalTitle\"].isna()]\n"
     ]
    }
   ],
   "source": [
    "## If the \"originalTitle\" is None then the \"title\" is the \"originalTitle\"\n",
    "df_filmweb[\"originalTitle\"][df_filmweb[\"originalTitle\"].isna()] = df_filmweb[\"title\"][df_filmweb[\"originalTitle\"].isna()]\n",
    "\n",
    "## Let's also drop the \"title\" column because it's no longer needed and rename the \"originalTitle\" column to \"title\"\n",
    "df_filmweb = df_filmweb.drop(columns=\"title\").rename({\"originalTitle\": \"title\"}, axis=1)"
   ]
  },
  {
   "cell_type": "code",
   "execution_count": 13,
   "metadata": {},
   "outputs": [
    {
     "data": {
      "text/plain": [
       "title          0\n",
       "year           0\n",
       "description    0\n",
       "genre          0\n",
       "dtype: int64"
      ]
     },
     "execution_count": 13,
     "metadata": {},
     "output_type": "execute_result"
    }
   ],
   "source": [
    "## Check again for missing values for filmweb dataset\n",
    "df_filmweb.isna().sum()"
   ]
  },
  {
   "cell_type": "code",
   "execution_count": 14,
   "metadata": {},
   "outputs": [],
   "source": [
    "## Check unique genres in each move database"
   ]
  },
  {
   "cell_type": "code",
   "execution_count": 15,
   "metadata": {},
   "outputs": [
    {
     "data": {
      "text/plain": [
       "27"
      ]
     },
     "execution_count": 15,
     "metadata": {},
     "output_type": "execute_result"
    }
   ],
   "source": [
    "df_imdb_all.genre.nunique()"
   ]
  },
  {
   "cell_type": "code",
   "execution_count": 16,
   "metadata": {},
   "outputs": [
    {
     "data": {
      "text/plain": [
       "1014"
      ]
     },
     "execution_count": 16,
     "metadata": {},
     "output_type": "execute_result"
    }
   ],
   "source": [
    "## Let's inspect what's going on here\n",
    "df_filmweb.genre.nunique()"
   ]
  },
  {
   "cell_type": "code",
   "execution_count": 17,
   "metadata": {},
   "outputs": [
    {
     "data": {
      "text/plain": [
       "Dramat                                        1021\n",
       "Komedia                                        490\n",
       "Horror                                         489\n",
       "Dramat, Komedia                                381\n",
       "Thriller                                       361\n",
       "                                              ... \n",
       "Dramat, Fantasy, Niemy                           1\n",
       "Familijny, Fantasy, Romans                       1\n",
       "Animacja, Dla dzieci, Komedia, Przygodowy        1\n",
       "Dramat, Psychologiczny, Anime                    1\n",
       "Kryminał, Biograficzny, Dramat historyczny       1\n",
       "Name: genre, Length: 1014, dtype: int64"
      ]
     },
     "execution_count": 17,
     "metadata": {},
     "output_type": "execute_result"
    }
   ],
   "source": [
    "## As we can probably deduce a movie can belong to multiple genre\n",
    "## For the sake of comparison with imdb dataset let's\n",
    "## only take the first occuring genre as the \"true\" genre of the movie\n",
    "## But before that let's first check for the existance of the same\n",
    "## movies in both datasets, so we can compare them later\n",
    "df_filmweb.genre.value_counts()"
   ]
  },
  {
   "cell_type": "markdown",
   "metadata": {},
   "source": [
    "Let's inspect how the title of both datasets look like"
   ]
  },
  {
   "cell_type": "code",
   "execution_count": 18,
   "metadata": {},
   "outputs": [
    {
     "data": {
      "text/plain": [
       "0                 The Green Mile\n",
       "1       The Shawshank Redemption\n",
       "2                   Forrest Gump\n",
       "3                           Léon\n",
       "4            Requiem for a Dream\n",
       "                  ...           \n",
       "9946      Paul Blart: Mall Cop 2\n",
       "9947         The Next Best Thing\n",
       "9948                        Upał\n",
       "9949                    Evidence\n",
       "9950         Highlander: Endgame\n",
       "Name: title, Length: 9951, dtype: object"
      ]
     },
     "execution_count": 18,
     "metadata": {},
     "output_type": "execute_result"
    }
   ],
   "source": [
    "df_filmweb.title"
   ]
  },
  {
   "cell_type": "code",
   "execution_count": 19,
   "metadata": {},
   "outputs": [
    {
     "data": {
      "text/plain": [
       "0              Oscar et la dame rose (2009) \n",
       "1                              Cupid (1997) \n",
       "2          Young, Wild and Wonderful (1980) \n",
       "3                     The Secret Sin (1915) \n",
       "4                    The Unrecovered (2007) \n",
       "                         ...                \n",
       "108409       \"Tales of Light & Dark\" (2013) \n",
       "108410          Der letzte Mohikaner (1965) \n",
       "108411                  Oliver Twink (2007) \n",
       "108412                    Slipstream (1973) \n",
       "108413            Curitiba Zero Grau (2010) \n",
       "Name: title, Length: 108414, dtype: object"
      ]
     },
     "execution_count": 19,
     "metadata": {},
     "output_type": "execute_result"
    }
   ],
   "source": [
    "df_imdb_all.title"
   ]
  },
  {
   "cell_type": "markdown",
   "metadata": {},
   "source": [
    "Unfortunately the imdb dataset contains also the year in which the movie was released(probably), therefore right now we won't be able to check if there are any movies that belong to both datasets, so let's clean the title column in both of the datasets <br>\n",
    "The cleaning consists of deleting the \"(year)\" part from each title and also dropping the special characters and making each of them a lower case character."
   ]
  },
  {
   "cell_type": "code",
   "execution_count": 20,
   "metadata": {},
   "outputs": [],
   "source": [
    "## Cleanin'\n",
    "titles_filmweb = df_filmweb[\"title\"].pipe(clean_titles)\n",
    "titles_imdb = df_imdb_all[\"title\"].pipe(clean_titles)"
   ]
  },
  {
   "cell_type": "code",
   "execution_count": 21,
   "metadata": {},
   "outputs": [
    {
     "data": {
      "text/html": [
       "<div>\n",
       "<style scoped>\n",
       "    .dataframe tbody tr th:only-of-type {\n",
       "        vertical-align: middle;\n",
       "    }\n",
       "\n",
       "    .dataframe tbody tr th {\n",
       "        vertical-align: top;\n",
       "    }\n",
       "\n",
       "    .dataframe thead th {\n",
       "        text-align: right;\n",
       "    }\n",
       "</style>\n",
       "<table border=\"1\" class=\"dataframe\">\n",
       "  <thead>\n",
       "    <tr style=\"text-align: right;\">\n",
       "      <th></th>\n",
       "      <th>title</th>\n",
       "      <th>genre</th>\n",
       "      <th>description</th>\n",
       "      <th>year</th>\n",
       "    </tr>\n",
       "  </thead>\n",
       "  <tbody>\n",
       "    <tr>\n",
       "      <th>0</th>\n",
       "      <td>Oscar et la dame rose (2009)</td>\n",
       "      <td>drama</td>\n",
       "      <td>Listening in to a conversation between his do...</td>\n",
       "      <td>2009</td>\n",
       "    </tr>\n",
       "    <tr>\n",
       "      <th>1</th>\n",
       "      <td>Cupid (1997)</td>\n",
       "      <td>thriller</td>\n",
       "      <td>A brother and sister with a past incestuous r...</td>\n",
       "      <td>1997</td>\n",
       "    </tr>\n",
       "    <tr>\n",
       "      <th>2</th>\n",
       "      <td>Young, Wild and Wonderful (1980)</td>\n",
       "      <td>adult</td>\n",
       "      <td>As the bus empties the students for their fie...</td>\n",
       "      <td>1980</td>\n",
       "    </tr>\n",
       "  </tbody>\n",
       "</table>\n",
       "</div>"
      ],
      "text/plain": [
       "                                title       genre  \\\n",
       "0       Oscar et la dame rose (2009)       drama    \n",
       "1                       Cupid (1997)    thriller    \n",
       "2   Young, Wild and Wonderful (1980)       adult    \n",
       "\n",
       "                                         description  year  \n",
       "0   Listening in to a conversation between his do...  2009  \n",
       "1   A brother and sister with a past incestuous r...  1997  \n",
       "2   As the bus empties the students for their fie...  1980  "
      ]
     },
     "execution_count": 21,
     "metadata": {},
     "output_type": "execute_result"
    }
   ],
   "source": [
    "# get date of films from title column\n",
    "df_imdb_all[\"year\"] = df_imdb_all.title.str.extract(r\"(\\([0-9]+\\))\", expand=False).str.replace(pat=r\"(\\(|\\))\", repl=\"\", regex=True)\n",
    "df_imdb_all.head(3)"
   ]
  },
  {
   "cell_type": "code",
   "execution_count": 22,
   "metadata": {},
   "outputs": [
    {
     "data": {
      "text/plain": [
       "0             oscar et la dame rose\n",
       "1                             cupid\n",
       "2         young, wild and wonderful\n",
       "3                    the secret sin\n",
       "4                   the unrecovered\n",
       "                    ...            \n",
       "108409        tales of light & dark\n",
       "108410         der letzte mohikaner\n",
       "108411                 oliver twink\n",
       "108412                   slipstream\n",
       "108413           curitiba zero grau\n",
       "Name: title, Length: 108414, dtype: object"
      ]
     },
     "execution_count": 22,
     "metadata": {},
     "output_type": "execute_result"
    }
   ],
   "source": [
    "titles_imdb"
   ]
  },
  {
   "cell_type": "code",
   "execution_count": 23,
   "metadata": {},
   "outputs": [
    {
     "data": {
      "text/plain": [
       "2019"
      ]
     },
     "execution_count": 23,
     "metadata": {},
     "output_type": "execute_result"
    }
   ],
   "source": [
    "## Let's check how many titles belong to both datasets\n",
    "len(set(titles_filmweb) & set(titles_imdb))"
   ]
  },
  {
   "cell_type": "code",
   "execution_count": 24,
   "metadata": {},
   "outputs": [],
   "source": [
    "## Let's replace the the titles with the cleaned ones\n",
    "df_filmweb[\"title\"] = df_filmweb[\"title\"].pipe(clean_titles)\n",
    "df_imdb_all[\"title\"] = df_imdb_all[\"title\"].pipe(clean_titles)"
   ]
  },
  {
   "cell_type": "code",
   "execution_count": 25,
   "metadata": {},
   "outputs": [
    {
     "data": {
      "text/html": [
       "<div>\n",
       "<style scoped>\n",
       "    .dataframe tbody tr th:only-of-type {\n",
       "        vertical-align: middle;\n",
       "    }\n",
       "\n",
       "    .dataframe tbody tr th {\n",
       "        vertical-align: top;\n",
       "    }\n",
       "\n",
       "    .dataframe thead th {\n",
       "        text-align: right;\n",
       "    }\n",
       "</style>\n",
       "<table border=\"1\" class=\"dataframe\">\n",
       "  <thead>\n",
       "    <tr style=\"text-align: right;\">\n",
       "      <th></th>\n",
       "      <th>title</th>\n",
       "      <th>year</th>\n",
       "      <th>description</th>\n",
       "      <th>genre</th>\n",
       "    </tr>\n",
       "  </thead>\n",
       "  <tbody>\n",
       "    <tr>\n",
       "      <th>0</th>\n",
       "      <td>the green mile</td>\n",
       "      <td>1999</td>\n",
       "      <td>Emerytowany strażnik więzienny opowiada przyja...</td>\n",
       "      <td>Dramat</td>\n",
       "    </tr>\n",
       "    <tr>\n",
       "      <th>1</th>\n",
       "      <td>the shawshank redemption</td>\n",
       "      <td>1994</td>\n",
       "      <td>Adaptacja opowiadania Stephena Kinga. Niesłusz...</td>\n",
       "      <td>Dramat</td>\n",
       "    </tr>\n",
       "    <tr>\n",
       "      <th>2</th>\n",
       "      <td>forrest gump</td>\n",
       "      <td>1994</td>\n",
       "      <td>Historia życia Forresta, chłopca o niskim ilor...</td>\n",
       "      <td>Dramat, Komedia</td>\n",
       "    </tr>\n",
       "    <tr>\n",
       "      <th>3</th>\n",
       "      <td>leon</td>\n",
       "      <td>1994</td>\n",
       "      <td>Płatny morderca ratuje dwunastoletnią dziewczy...</td>\n",
       "      <td>Dramat, Kryminał</td>\n",
       "    </tr>\n",
       "    <tr>\n",
       "      <th>4</th>\n",
       "      <td>requiem for a dream</td>\n",
       "      <td>2000</td>\n",
       "      <td>Historia czwórki bohaterów, dla których używki...</td>\n",
       "      <td>Dramat</td>\n",
       "    </tr>\n",
       "  </tbody>\n",
       "</table>\n",
       "</div>"
      ],
      "text/plain": [
       "                      title  year  \\\n",
       "0            the green mile  1999   \n",
       "1  the shawshank redemption  1994   \n",
       "2              forrest gump  1994   \n",
       "3                      leon  1994   \n",
       "4       requiem for a dream  2000   \n",
       "\n",
       "                                         description             genre  \n",
       "0  Emerytowany strażnik więzienny opowiada przyja...            Dramat  \n",
       "1  Adaptacja opowiadania Stephena Kinga. Niesłusz...            Dramat  \n",
       "2  Historia życia Forresta, chłopca o niskim ilor...   Dramat, Komedia  \n",
       "3  Płatny morderca ratuje dwunastoletnią dziewczy...  Dramat, Kryminał  \n",
       "4  Historia czwórki bohaterów, dla których używki...            Dramat  "
      ]
     },
     "execution_count": 25,
     "metadata": {},
     "output_type": "execute_result"
    }
   ],
   "source": [
    "df_filmweb.head()"
   ]
  },
  {
   "cell_type": "code",
   "execution_count": 26,
   "metadata": {},
   "outputs": [
    {
     "data": {
      "text/html": [
       "<div>\n",
       "<style scoped>\n",
       "    .dataframe tbody tr th:only-of-type {\n",
       "        vertical-align: middle;\n",
       "    }\n",
       "\n",
       "    .dataframe tbody tr th {\n",
       "        vertical-align: top;\n",
       "    }\n",
       "\n",
       "    .dataframe thead th {\n",
       "        text-align: right;\n",
       "    }\n",
       "</style>\n",
       "<table border=\"1\" class=\"dataframe\">\n",
       "  <thead>\n",
       "    <tr style=\"text-align: right;\">\n",
       "      <th></th>\n",
       "      <th>title</th>\n",
       "      <th>genre</th>\n",
       "      <th>description</th>\n",
       "      <th>year</th>\n",
       "    </tr>\n",
       "  </thead>\n",
       "  <tbody>\n",
       "    <tr>\n",
       "      <th>0</th>\n",
       "      <td>oscar et la dame rose</td>\n",
       "      <td>drama</td>\n",
       "      <td>Listening in to a conversation between his do...</td>\n",
       "      <td>2009</td>\n",
       "    </tr>\n",
       "    <tr>\n",
       "      <th>1</th>\n",
       "      <td>cupid</td>\n",
       "      <td>thriller</td>\n",
       "      <td>A brother and sister with a past incestuous r...</td>\n",
       "      <td>1997</td>\n",
       "    </tr>\n",
       "    <tr>\n",
       "      <th>2</th>\n",
       "      <td>young, wild and wonderful</td>\n",
       "      <td>adult</td>\n",
       "      <td>As the bus empties the students for their fie...</td>\n",
       "      <td>1980</td>\n",
       "    </tr>\n",
       "    <tr>\n",
       "      <th>3</th>\n",
       "      <td>the secret sin</td>\n",
       "      <td>drama</td>\n",
       "      <td>To help their unemployed father make ends mee...</td>\n",
       "      <td>1915</td>\n",
       "    </tr>\n",
       "    <tr>\n",
       "      <th>4</th>\n",
       "      <td>the unrecovered</td>\n",
       "      <td>drama</td>\n",
       "      <td>The film's title refers not only to the un-re...</td>\n",
       "      <td>2007</td>\n",
       "    </tr>\n",
       "  </tbody>\n",
       "</table>\n",
       "</div>"
      ],
      "text/plain": [
       "                       title       genre  \\\n",
       "0      oscar et la dame rose      drama    \n",
       "1                      cupid   thriller    \n",
       "2  young, wild and wonderful      adult    \n",
       "3             the secret sin      drama    \n",
       "4            the unrecovered      drama    \n",
       "\n",
       "                                         description  year  \n",
       "0   Listening in to a conversation between his do...  2009  \n",
       "1   A brother and sister with a past incestuous r...  1997  \n",
       "2   As the bus empties the students for their fie...  1980  \n",
       "3   To help their unemployed father make ends mee...  1915  \n",
       "4   The film's title refers not only to the un-re...  2007  "
      ]
     },
     "execution_count": 26,
     "metadata": {},
     "output_type": "execute_result"
    }
   ],
   "source": [
    "df_imdb_all.head()"
   ]
  },
  {
   "cell_type": "code",
   "execution_count": 27,
   "metadata": {},
   "outputs": [
    {
     "data": {
      "text/html": [
       "<div>\n",
       "<style scoped>\n",
       "    .dataframe tbody tr th:only-of-type {\n",
       "        vertical-align: middle;\n",
       "    }\n",
       "\n",
       "    .dataframe tbody tr th {\n",
       "        vertical-align: top;\n",
       "    }\n",
       "\n",
       "    .dataframe thead th {\n",
       "        text-align: right;\n",
       "    }\n",
       "</style>\n",
       "<table border=\"1\" class=\"dataframe\">\n",
       "  <thead>\n",
       "    <tr style=\"text-align: right;\">\n",
       "      <th></th>\n",
       "      <th>title</th>\n",
       "      <th>year</th>\n",
       "      <th>description</th>\n",
       "      <th>genre</th>\n",
       "    </tr>\n",
       "  </thead>\n",
       "  <tbody>\n",
       "    <tr>\n",
       "      <th>0</th>\n",
       "      <td>oscar et la dame rose</td>\n",
       "      <td>2009</td>\n",
       "      <td>Listening in to a conversation between his do...</td>\n",
       "      <td>drama</td>\n",
       "    </tr>\n",
       "    <tr>\n",
       "      <th>1</th>\n",
       "      <td>cupid</td>\n",
       "      <td>1997</td>\n",
       "      <td>A brother and sister with a past incestuous r...</td>\n",
       "      <td>thriller</td>\n",
       "    </tr>\n",
       "    <tr>\n",
       "      <th>2</th>\n",
       "      <td>young, wild and wonderful</td>\n",
       "      <td>1980</td>\n",
       "      <td>As the bus empties the students for their fie...</td>\n",
       "      <td>adult</td>\n",
       "    </tr>\n",
       "    <tr>\n",
       "      <th>3</th>\n",
       "      <td>the secret sin</td>\n",
       "      <td>1915</td>\n",
       "      <td>To help their unemployed father make ends mee...</td>\n",
       "      <td>drama</td>\n",
       "    </tr>\n",
       "    <tr>\n",
       "      <th>4</th>\n",
       "      <td>the unrecovered</td>\n",
       "      <td>2007</td>\n",
       "      <td>The film's title refers not only to the un-re...</td>\n",
       "      <td>drama</td>\n",
       "    </tr>\n",
       "    <tr>\n",
       "      <th>...</th>\n",
       "      <td>...</td>\n",
       "      <td>...</td>\n",
       "      <td>...</td>\n",
       "      <td>...</td>\n",
       "    </tr>\n",
       "    <tr>\n",
       "      <th>108409</th>\n",
       "      <td>tales of light &amp; dark</td>\n",
       "      <td>2013</td>\n",
       "      <td>Covering multiple genres, Tales of Light &amp; Da...</td>\n",
       "      <td>horror</td>\n",
       "    </tr>\n",
       "    <tr>\n",
       "      <th>108410</th>\n",
       "      <td>der letzte mohikaner</td>\n",
       "      <td>1965</td>\n",
       "      <td>As Alice and Cora Munro attempt to find their...</td>\n",
       "      <td>western</td>\n",
       "    </tr>\n",
       "    <tr>\n",
       "      <th>108411</th>\n",
       "      <td>oliver twink</td>\n",
       "      <td>2007</td>\n",
       "      <td>A movie 169 years in the making. Oliver Twist...</td>\n",
       "      <td>adult</td>\n",
       "    </tr>\n",
       "    <tr>\n",
       "      <th>108412</th>\n",
       "      <td>slipstream</td>\n",
       "      <td>1973</td>\n",
       "      <td>Popular, but mysterious rock D.J Mike Mallard...</td>\n",
       "      <td>drama</td>\n",
       "    </tr>\n",
       "    <tr>\n",
       "      <th>108413</th>\n",
       "      <td>curitiba zero grau</td>\n",
       "      <td>2010</td>\n",
       "      <td>Curitiba is a city in movement, with rhythms ...</td>\n",
       "      <td>drama</td>\n",
       "    </tr>\n",
       "  </tbody>\n",
       "</table>\n",
       "<p>108414 rows × 4 columns</p>\n",
       "</div>"
      ],
      "text/plain": [
       "                            title  year  \\\n",
       "0           oscar et la dame rose  2009   \n",
       "1                           cupid  1997   \n",
       "2       young, wild and wonderful  1980   \n",
       "3                  the secret sin  1915   \n",
       "4                 the unrecovered  2007   \n",
       "...                           ...   ...   \n",
       "108409      tales of light & dark  2013   \n",
       "108410       der letzte mohikaner  1965   \n",
       "108411               oliver twink  2007   \n",
       "108412                 slipstream  1973   \n",
       "108413         curitiba zero grau  2010   \n",
       "\n",
       "                                              description     genre  \n",
       "0        Listening in to a conversation between his do...     drama  \n",
       "1        A brother and sister with a past incestuous r...  thriller  \n",
       "2        As the bus empties the students for their fie...     adult  \n",
       "3        To help their unemployed father make ends mee...     drama  \n",
       "4        The film's title refers not only to the un-re...     drama  \n",
       "...                                                   ...       ...  \n",
       "108409   Covering multiple genres, Tales of Light & Da...    horror  \n",
       "108410   As Alice and Cora Munro attempt to find their...   western  \n",
       "108411   A movie 169 years in the making. Oliver Twist...     adult  \n",
       "108412   Popular, but mysterious rock D.J Mike Mallard...     drama  \n",
       "108413   Curitiba is a city in movement, with rhythms ...     drama  \n",
       "\n",
       "[108414 rows x 4 columns]"
      ]
     },
     "execution_count": 27,
     "metadata": {},
     "output_type": "execute_result"
    }
   ],
   "source": [
    "df_imdb_all = df_imdb_all.iloc[:, [0,3,2,1]]\n",
    "## I've seen that the genre column in imdb dataset was padded with spaces\n",
    "## and the belowe cell with filmweb data manipulation did not work because of that\n",
    "## so I've stripped it from those spaces\n",
    "df_imdb_all[\"genre\"] = df_imdb_all[\"genre\"].str.strip()\n",
    "df_imdb_all"
   ]
  },
  {
   "cell_type": "code",
   "execution_count": 28,
   "metadata": {},
   "outputs": [
    {
     "data": {
      "text/plain": [
       "9951"
      ]
     },
     "execution_count": 28,
     "metadata": {},
     "output_type": "execute_result"
    }
   ],
   "source": [
    "len(df_filmweb)"
   ]
  },
  {
   "cell_type": "code",
   "execution_count": 29,
   "metadata": {},
   "outputs": [
    {
     "data": {
      "text/html": [
       "<div>\n",
       "<style scoped>\n",
       "    .dataframe tbody tr th:only-of-type {\n",
       "        vertical-align: middle;\n",
       "    }\n",
       "\n",
       "    .dataframe tbody tr th {\n",
       "        vertical-align: top;\n",
       "    }\n",
       "\n",
       "    .dataframe thead th {\n",
       "        text-align: right;\n",
       "    }\n",
       "</style>\n",
       "<table border=\"1\" class=\"dataframe\">\n",
       "  <thead>\n",
       "    <tr style=\"text-align: right;\">\n",
       "      <th></th>\n",
       "      <th>title</th>\n",
       "      <th>year</th>\n",
       "      <th>description</th>\n",
       "      <th>genre</th>\n",
       "    </tr>\n",
       "  </thead>\n",
       "  <tbody>\n",
       "    <tr>\n",
       "      <th>0</th>\n",
       "      <td>the green mile</td>\n",
       "      <td>1999</td>\n",
       "      <td>Emerytowany strażnik więzienny opowiada przyja...</td>\n",
       "      <td>drama</td>\n",
       "    </tr>\n",
       "    <tr>\n",
       "      <th>1</th>\n",
       "      <td>the shawshank redemption</td>\n",
       "      <td>1994</td>\n",
       "      <td>Adaptacja opowiadania Stephena Kinga. Niesłusz...</td>\n",
       "      <td>drama</td>\n",
       "    </tr>\n",
       "    <tr>\n",
       "      <th>4</th>\n",
       "      <td>requiem for a dream</td>\n",
       "      <td>2000</td>\n",
       "      <td>Historia czwórki bohaterów, dla których używki...</td>\n",
       "      <td>drama</td>\n",
       "    </tr>\n",
       "    <tr>\n",
       "      <th>6</th>\n",
       "      <td>the silence of the lambs</td>\n",
       "      <td>1991</td>\n",
       "      <td>Seryjny morderca i inteligentna agentka łączą ...</td>\n",
       "      <td>thriller</td>\n",
       "    </tr>\n",
       "    <tr>\n",
       "      <th>7</th>\n",
       "      <td>gladiator</td>\n",
       "      <td>2000</td>\n",
       "      <td>Generał Maximus - prawa ręka cesarza, szczęśli...</td>\n",
       "      <td>drama</td>\n",
       "    </tr>\n",
       "    <tr>\n",
       "      <th>...</th>\n",
       "      <td>...</td>\n",
       "      <td>...</td>\n",
       "      <td>...</td>\n",
       "      <td>...</td>\n",
       "    </tr>\n",
       "    <tr>\n",
       "      <th>9941</th>\n",
       "      <td>mes tresors</td>\n",
       "      <td>2016</td>\n",
       "      <td>Carole jest introwertyczką, której całe życie...</td>\n",
       "      <td>comedy</td>\n",
       "    </tr>\n",
       "    <tr>\n",
       "      <th>9944</th>\n",
       "      <td>spinning man</td>\n",
       "      <td>2018</td>\n",
       "      <td>Profesor, który ma opinię kobieciarza, staje s...</td>\n",
       "      <td>thriller</td>\n",
       "    </tr>\n",
       "    <tr>\n",
       "      <th>9946</th>\n",
       "      <td>paul blart: mall cop 2</td>\n",
       "      <td>2015</td>\n",
       "      <td>Paul Bart przyjeżdża do Las Vegas na spotkanie...</td>\n",
       "      <td>comedy</td>\n",
       "    </tr>\n",
       "    <tr>\n",
       "      <th>9947</th>\n",
       "      <td>the next best thing</td>\n",
       "      <td>2000</td>\n",
       "      <td>Abbie zachodzi w ciążę po nocy spędzonej ze sw...</td>\n",
       "      <td>comedy</td>\n",
       "    </tr>\n",
       "    <tr>\n",
       "      <th>9949</th>\n",
       "      <td>evidence</td>\n",
       "      <td>2013</td>\n",
       "      <td>Detektyw tropi mordercę za pomocą materiału wi...</td>\n",
       "      <td>horror</td>\n",
       "    </tr>\n",
       "  </tbody>\n",
       "</table>\n",
       "<p>3961 rows × 4 columns</p>\n",
       "</div>"
      ],
      "text/plain": [
       "                         title  year  \\\n",
       "0               the green mile  1999   \n",
       "1     the shawshank redemption  1994   \n",
       "4          requiem for a dream  2000   \n",
       "6     the silence of the lambs  1991   \n",
       "7                    gladiator  2000   \n",
       "...                        ...   ...   \n",
       "9941               mes tresors  2016   \n",
       "9944              spinning man  2018   \n",
       "9946    paul blart: mall cop 2  2015   \n",
       "9947       the next best thing  2000   \n",
       "9949                  evidence  2013   \n",
       "\n",
       "                                            description     genre  \n",
       "0     Emerytowany strażnik więzienny opowiada przyja...     drama  \n",
       "1     Adaptacja opowiadania Stephena Kinga. Niesłusz...     drama  \n",
       "4     Historia czwórki bohaterów, dla których używki...     drama  \n",
       "6     Seryjny morderca i inteligentna agentka łączą ...  thriller  \n",
       "7     Generał Maximus - prawa ręka cesarza, szczęśli...     drama  \n",
       "...                                                 ...       ...  \n",
       "9941   Carole jest introwertyczką, której całe życie...    comedy  \n",
       "9944  Profesor, który ma opinię kobieciarza, staje s...  thriller  \n",
       "9946  Paul Bart przyjeżdża do Las Vegas na spotkanie...    comedy  \n",
       "9947  Abbie zachodzi w ciążę po nocy spędzonej ze sw...    comedy  \n",
       "9949  Detektyw tropi mordercę za pomocą materiału wi...    horror  \n",
       "\n",
       "[3961 rows x 4 columns]"
      ]
     },
     "execution_count": 29,
     "metadata": {},
     "output_type": "execute_result"
    }
   ],
   "source": [
    "## Okey so now that we have cleaned titles let's clean the genres for filmweb dataset\n",
    "df_filmweb = df_filmweb.pipe(first_genre_filmweb, set(df_imdb_all.genre))\n",
    "df_filmweb"
   ]
  },
  {
   "cell_type": "code",
   "execution_count": 30,
   "metadata": {},
   "outputs": [
    {
     "data": {
      "text/plain": [
       "3961"
      ]
     },
     "execution_count": 30,
     "metadata": {},
     "output_type": "execute_result"
    }
   ],
   "source": [
    "len(df_filmweb)"
   ]
  },
  {
   "cell_type": "code",
   "execution_count": 31,
   "metadata": {},
   "outputs": [
    {
     "data": {
      "text/plain": [
       "1139"
      ]
     },
     "execution_count": 31,
     "metadata": {},
     "output_type": "execute_result"
    }
   ],
   "source": [
    "## Let's once again see how many movies are the same in both datasets\n",
    "## We've lost some movies due to \"genre missmatch\"(might think about it later)\n",
    "titles_filmweb = df_filmweb[\"title\"].pipe(clean_titles)\n",
    "titles_imdb = df_imdb_all[\"title\"].pipe(clean_titles)\n",
    "len(set(titles_filmweb) & set(titles_imdb))"
   ]
  },
  {
   "cell_type": "code",
   "execution_count": 32,
   "metadata": {},
   "outputs": [
    {
     "data": {
      "text/plain": [
       "3961"
      ]
     },
     "execution_count": 32,
     "metadata": {},
     "output_type": "execute_result"
    }
   ],
   "source": [
    "len(df_filmweb)"
   ]
  },
  {
   "cell_type": "code",
   "execution_count": 33,
   "metadata": {},
   "outputs": [
    {
     "data": {
      "text/plain": [
       "863"
      ]
     },
     "execution_count": 33,
     "metadata": {},
     "output_type": "execute_result"
    }
   ],
   "source": [
    "## Let's also check how many movies that belong to both datasets have the same genre\n",
    "## Not bad, 1178 movies belong to the same genres according to both datasets\n",
    "len( set(zip(df_filmweb.title, df_filmweb.genre)) & set(zip(df_imdb_all.title, df_imdb_all.genre)) )"
   ]
  },
  {
   "cell_type": "code",
   "execution_count": 34,
   "metadata": {},
   "outputs": [],
   "source": [
    "unique_genres_imdb = df_imdb_all.genre.str.strip().unique()"
   ]
  },
  {
   "cell_type": "code",
   "execution_count": 35,
   "metadata": {},
   "outputs": [],
   "source": [
    "boolean_mask = df_filmweb.genre.isin(unique_genres_imdb)"
   ]
  },
  {
   "cell_type": "code",
   "execution_count": 36,
   "metadata": {},
   "outputs": [
    {
     "data": {
      "text/plain": [
       "3961"
      ]
     },
     "execution_count": 36,
     "metadata": {},
     "output_type": "execute_result"
    }
   ],
   "source": [
    "len(df_filmweb)"
   ]
  },
  {
   "cell_type": "code",
   "execution_count": 37,
   "metadata": {},
   "outputs": [],
   "source": [
    "df_filmweb = df_filmweb[boolean_mask].reset_index(drop=True)"
   ]
  },
  {
   "cell_type": "code",
   "execution_count": 38,
   "metadata": {},
   "outputs": [
    {
     "data": {
      "text/plain": [
       "genre\n",
       "drama          1482\n",
       "comedy          990\n",
       "thriller        520\n",
       "horror          489\n",
       "documentary     138\n",
       "action          103\n",
       "western          50\n",
       "crime            47\n",
       "adventure        47\n",
       "sci-fi           30\n",
       "romance          16\n",
       "family           11\n",
       "war              10\n",
       "biography         8\n",
       "fantasy           8\n",
       "animation         4\n",
       "musical           3\n",
       "short             3\n",
       "music             2\n",
       "dtype: int64"
      ]
     },
     "execution_count": 38,
     "metadata": {},
     "output_type": "execute_result"
    }
   ],
   "source": [
    "df_filmweb.groupby(\"genre\").size().sort_values(ascending=False)"
   ]
  },
  {
   "cell_type": "code",
   "execution_count": 39,
   "metadata": {},
   "outputs": [
    {
     "data": {
      "text/plain": [
       "3961"
      ]
     },
     "execution_count": 39,
     "metadata": {},
     "output_type": "execute_result"
    }
   ],
   "source": [
    "len(df_filmweb)"
   ]
  },
  {
   "cell_type": "code",
   "execution_count": 40,
   "metadata": {},
   "outputs": [
    {
     "data": {
      "text/plain": [
       "genre\n",
       "drama          27225\n",
       "documentary    26192\n",
       "comedy         14893\n",
       "short          10145\n",
       "horror          4408\n",
       "thriller        3181\n",
       "action          2629\n",
       "western         2064\n",
       "reality-tv      1767\n",
       "family          1567\n",
       "adventure       1550\n",
       "music           1462\n",
       "romance         1344\n",
       "sci-fi          1293\n",
       "adult           1180\n",
       "crime           1010\n",
       "animation        996\n",
       "sport            863\n",
       "talk-show        782\n",
       "fantasy          645\n",
       "mystery          637\n",
       "musical          553\n",
       "biography        529\n",
       "history          486\n",
       "game-show        387\n",
       "news             362\n",
       "war              264\n",
       "dtype: int64"
      ]
     },
     "execution_count": 40,
     "metadata": {},
     "output_type": "execute_result"
    }
   ],
   "source": [
    "df_imdb_all.groupby(\"genre\").size().sort_values(ascending=False)"
   ]
  },
  {
   "cell_type": "markdown",
   "metadata": {},
   "source": [
    "We would prorably have to think about what to do with movies that have less than {n} number of samples because it would be hard to get anything meaningful from them"
   ]
  },
  {
   "cell_type": "code",
   "execution_count": 41,
   "metadata": {},
   "outputs": [],
   "source": [
    "## drop movies with duplicated descriptions\n",
    "df_filmweb = df_filmweb.drop_duplicates(subset=[\"description\"])\n",
    "df_imdb_all = df_imdb_all.drop_duplicates(subset=[\"description\"])"
   ]
  },
  {
   "cell_type": "code",
   "execution_count": 42,
   "metadata": {},
   "outputs": [],
   "source": [
    "df_filmweb.to_csv(\"data/df_filmweb.csv\", index=False)\n",
    "df_imdb_all.to_csv(\"data/df_imdb.csv\", index=False)"
   ]
  },
  {
   "cell_type": "code",
   "execution_count": 43,
   "metadata": {},
   "outputs": [],
   "source": [
    "## Script to split the data into sets for further\n",
    "# !python create_datasets.py data/df_filmweb.csv data/df_imdb.csv splits.csv"
   ]
  },
  {
   "cell_type": "code",
   "execution_count": 44,
   "metadata": {},
   "outputs": [],
   "source": [
    "## n_min - minimum number of samples \n",
    "## n_max - maximum number of samples\n",
    "df_filmweb_sampled, df_imdb_all_sampled = down_sample_both_dfs(df_filmweb, df_imdb_all, n_min=400, n_max=400)"
   ]
  },
  {
   "cell_type": "code",
   "execution_count": 45,
   "metadata": {},
   "outputs": [
    {
     "data": {
      "text/plain": [
       "True"
      ]
     },
     "execution_count": 45,
     "metadata": {},
     "output_type": "execute_result"
    }
   ],
   "source": [
    "(df_filmweb_sampled.groupby(\"genre\").size() == df_imdb_all_sampled.groupby(\"genre\").size()).all()"
   ]
  },
  {
   "attachments": {},
   "cell_type": "markdown",
   "metadata": {},
   "source": [
    "## Tfidf"
   ]
  },
  {
   "cell_type": "code",
   "execution_count": 46,
   "metadata": {},
   "outputs": [],
   "source": [
    "import nltk\n",
    "from nltk.corpus import stopwords\n",
    "from sklearn.pipeline import Pipeline\n",
    "from sklearn.feature_extraction.text import CountVectorizer, TfidfVectorizer\n",
    "import pandas as pd\n",
    "import numpy as np"
   ]
  },
  {
   "cell_type": "code",
   "execution_count": 47,
   "metadata": {},
   "outputs": [],
   "source": [
    "with open('polish_stopwords.txt') as f:\n",
    "    lines = f.readlines()"
   ]
  },
  {
   "cell_type": "code",
   "execution_count": 48,
   "metadata": {},
   "outputs": [],
   "source": [
    "stopwords_polish = [line.strip('\\n') for line in lines]\n",
    "stopwords_polish.extend(['nbsp', 'zostaje'])"
   ]
  },
  {
   "cell_type": "code",
   "execution_count": 49,
   "metadata": {},
   "outputs": [],
   "source": [
    "def process_documents(df_database, result_tfidf):\n",
    "    genre_df = pd.DataFrame()\n",
    "    for genre in df_database.genre.unique():\n",
    "        bool_mask = df_database.genre == genre\n",
    "        summed_scores = result_tfidf[bool_mask].sum(axis=0)\n",
    "        temp_df = pd.DataFrame(index=[genre], data=[summed_scores])\n",
    "        genre_df = pd.concat([genre_df, temp_df], axis=0)\n",
    "    return genre_df"
   ]
  },
  {
   "cell_type": "code",
   "execution_count": 50,
   "metadata": {},
   "outputs": [],
   "source": [
    "class GenresAverageTfidf:\n",
    "    def __init__(self, df_database, stopwords):\n",
    "        self.df_database = df_database\n",
    "        self.stopwords = stopwords\n",
    "        self.calculate_tfidf()\n",
    "\n",
    "    def calculate_tfidf(self):\n",
    "\n",
    "        vec = TfidfVectorizer(ngram_range=(1,1), stop_words=self.stopwords)\n",
    "        text_set = self.df_database['description'].to_list()\n",
    "        tf_idf = vec.fit_transform(text_set)\n",
    "        result_tfidf = pd.DataFrame(tf_idf.toarray(), columns=vec.get_feature_names_out())\n",
    "\n",
    "        self.genre_df = process_documents(self.df_database, result_tfidf=result_tfidf)\n",
    "        \n",
    "\n",
    "    def show_keywords(self, genre, n, normalize=False):\n",
    "        if not hasattr(self, 'genre_df'):\n",
    "            self.calculate_tfidf()\n",
    "        \n",
    "        test_tfidf_row = self.genre_df.loc[genre]\n",
    "        keywords_df = pd.DataFrame({\n",
    "            'keyword':test_tfidf_row.index,\n",
    "            'tf-idf':test_tfidf_row.values\n",
    "        })\n",
    "        keywords_df = keywords_df[\n",
    "            keywords_df['tf-idf'] > 0\n",
    "        ].sort_values(by=['tf-idf'],ascending=False)\n",
    "        keywords_df = keywords_df[:n]\n",
    "        keywords_df['tf-idf'] = keywords_df['tf-idf'] / (sum(keywords_df['tf-idf']) if normalize else 1)\n",
    "        return keywords_df\n",
    "        \n",
    "\n"
   ]
  },
  {
   "cell_type": "code",
   "execution_count": 51,
   "metadata": {},
   "outputs": [],
   "source": [
    "filmweb_average_tfidf = GenresAverageTfidf(df_filmweb_sampled, stopwords_polish)\n",
    "imdb_average_tfidf = GenresAverageTfidf(df_imdb_all_sampled, 'english')"
   ]
  },
  {
   "cell_type": "code",
   "execution_count": 52,
   "metadata": {},
   "outputs": [
    {
     "data": {
      "text/plain": [
       "array(['drama', 'comedy', 'horror', 'thriller'], dtype=object)"
      ]
     },
     "execution_count": 52,
     "metadata": {},
     "output_type": "execute_result"
    }
   ],
   "source": [
    "df_filmweb_sampled.genre.unique()"
   ]
  },
  {
   "cell_type": "code",
   "execution_count": 55,
   "metadata": {},
   "outputs": [
    {
     "data": {
      "text/html": [
       "<div>\n",
       "<style scoped>\n",
       "    .dataframe tbody tr th:only-of-type {\n",
       "        vertical-align: middle;\n",
       "    }\n",
       "\n",
       "    .dataframe tbody tr th {\n",
       "        vertical-align: top;\n",
       "    }\n",
       "\n",
       "    .dataframe thead th {\n",
       "        text-align: right;\n",
       "    }\n",
       "</style>\n",
       "<table border=\"1\" class=\"dataframe\">\n",
       "  <thead>\n",
       "    <tr style=\"text-align: right;\">\n",
       "      <th></th>\n",
       "      <th>keyword</th>\n",
       "      <th>tf-idf</th>\n",
       "    </tr>\n",
       "  </thead>\n",
       "  <tbody>\n",
       "    <tr>\n",
       "      <th>1243</th>\n",
       "      <td>domu</td>\n",
       "      <td>0.174791</td>\n",
       "    </tr>\n",
       "    <tr>\n",
       "      <th>1955</th>\n",
       "      <td>grupa</td>\n",
       "      <td>0.173035</td>\n",
       "    </tr>\n",
       "    <tr>\n",
       "      <th>4277</th>\n",
       "      <td>odkrywa</td>\n",
       "      <td>0.116983</td>\n",
       "    </tr>\n",
       "    <tr>\n",
       "      <th>8078</th>\n",
       "      <td>wkrótce</td>\n",
       "      <td>0.082782</td>\n",
       "    </tr>\n",
       "    <tr>\n",
       "      <th>8634</th>\n",
       "      <td>zaczynają</td>\n",
       "      <td>0.080335</td>\n",
       "    </tr>\n",
       "    <tr>\n",
       "      <th>5811</th>\n",
       "      <td>przyjaciół</td>\n",
       "      <td>0.078846</td>\n",
       "    </tr>\n",
       "    <tr>\n",
       "      <th>3573</th>\n",
       "      <td>młoda</td>\n",
       "      <td>0.076596</td>\n",
       "    </tr>\n",
       "    <tr>\n",
       "      <th>3088</th>\n",
       "      <td>ludzi</td>\n",
       "      <td>0.074786</td>\n",
       "    </tr>\n",
       "    <tr>\n",
       "      <th>2578</th>\n",
       "      <td>kobieta</td>\n",
       "      <td>0.071198</td>\n",
       "    </tr>\n",
       "    <tr>\n",
       "      <th>8633</th>\n",
       "      <td>zaczyna</td>\n",
       "      <td>0.070646</td>\n",
       "    </tr>\n",
       "  </tbody>\n",
       "</table>\n",
       "</div>"
      ],
      "text/plain": [
       "         keyword    tf-idf\n",
       "1243        domu  0.174791\n",
       "1955       grupa  0.173035\n",
       "4277     odkrywa  0.116983\n",
       "8078     wkrótce  0.082782\n",
       "8634   zaczynają  0.080335\n",
       "5811  przyjaciół  0.078846\n",
       "3573       młoda  0.076596\n",
       "3088       ludzi  0.074786\n",
       "2578     kobieta  0.071198\n",
       "8633     zaczyna  0.070646"
      ]
     },
     "execution_count": 55,
     "metadata": {},
     "output_type": "execute_result"
    }
   ],
   "source": [
    "filmweb_average_tfidf.show_keywords('horror', 10, True)"
   ]
  },
  {
   "cell_type": "code",
   "execution_count": 56,
   "metadata": {},
   "outputs": [
    {
     "data": {
      "text/html": [
       "<div>\n",
       "<style scoped>\n",
       "    .dataframe tbody tr th:only-of-type {\n",
       "        vertical-align: middle;\n",
       "    }\n",
       "\n",
       "    .dataframe tbody tr th {\n",
       "        vertical-align: top;\n",
       "    }\n",
       "\n",
       "    .dataframe thead th {\n",
       "        text-align: right;\n",
       "    }\n",
       "</style>\n",
       "<table border=\"1\" class=\"dataframe\">\n",
       "  <thead>\n",
       "    <tr style=\"text-align: right;\">\n",
       "      <th></th>\n",
       "      <th>keyword</th>\n",
       "      <th>tf-idf</th>\n",
       "    </tr>\n",
       "  </thead>\n",
       "  <tbody>\n",
       "    <tr>\n",
       "      <th>7028</th>\n",
       "      <td>house</td>\n",
       "      <td>0.142954</td>\n",
       "    </tr>\n",
       "    <tr>\n",
       "      <th>6406</th>\n",
       "      <td>group</td>\n",
       "      <td>0.109793</td>\n",
       "    </tr>\n",
       "    <tr>\n",
       "      <th>9995</th>\n",
       "      <td>night</td>\n",
       "      <td>0.104684</td>\n",
       "    </tr>\n",
       "    <tr>\n",
       "      <th>3723</th>\n",
       "      <td>dead</td>\n",
       "      <td>0.100657</td>\n",
       "    </tr>\n",
       "    <tr>\n",
       "      <th>6997</th>\n",
       "      <td>horror</td>\n",
       "      <td>0.098551</td>\n",
       "    </tr>\n",
       "    <tr>\n",
       "      <th>16432</th>\n",
       "      <td>young</td>\n",
       "      <td>0.098541</td>\n",
       "    </tr>\n",
       "    <tr>\n",
       "      <th>5383</th>\n",
       "      <td>family</td>\n",
       "      <td>0.094699</td>\n",
       "    </tr>\n",
       "    <tr>\n",
       "      <th>5142</th>\n",
       "      <td>evil</td>\n",
       "      <td>0.088670</td>\n",
       "    </tr>\n",
       "    <tr>\n",
       "      <th>10249</th>\n",
       "      <td>old</td>\n",
       "      <td>0.081851</td>\n",
       "    </tr>\n",
       "    <tr>\n",
       "      <th>15032</th>\n",
       "      <td>town</td>\n",
       "      <td>0.079601</td>\n",
       "    </tr>\n",
       "  </tbody>\n",
       "</table>\n",
       "</div>"
      ],
      "text/plain": [
       "      keyword    tf-idf\n",
       "7028    house  0.142954\n",
       "6406    group  0.109793\n",
       "9995    night  0.104684\n",
       "3723     dead  0.100657\n",
       "6997   horror  0.098551\n",
       "16432   young  0.098541\n",
       "5383   family  0.094699\n",
       "5142     evil  0.088670\n",
       "10249     old  0.081851\n",
       "15032    town  0.079601"
      ]
     },
     "execution_count": 56,
     "metadata": {},
     "output_type": "execute_result"
    }
   ],
   "source": [
    "imdb_average_tfidf.show_keywords('horror', 10, True)"
   ]
  },
  {
   "cell_type": "code",
   "execution_count": null,
   "metadata": {},
   "outputs": [],
   "source": []
  },
  {
   "cell_type": "code",
   "execution_count": null,
   "metadata": {},
   "outputs": [],
   "source": []
  },
  {
   "attachments": {},
   "cell_type": "markdown",
   "metadata": {},
   "source": [
    "## EDA"
   ]
  },
  {
   "cell_type": "code",
   "execution_count": 46,
   "metadata": {},
   "outputs": [
    {
     "data": {
      "text/html": [
       "<div>\n",
       "<style scoped>\n",
       "    .dataframe tbody tr th:only-of-type {\n",
       "        vertical-align: middle;\n",
       "    }\n",
       "\n",
       "    .dataframe tbody tr th {\n",
       "        vertical-align: top;\n",
       "    }\n",
       "\n",
       "    .dataframe thead th {\n",
       "        text-align: right;\n",
       "    }\n",
       "</style>\n",
       "<table border=\"1\" class=\"dataframe\">\n",
       "  <thead>\n",
       "    <tr style=\"text-align: right;\">\n",
       "      <th></th>\n",
       "      <th>title</th>\n",
       "      <th>year</th>\n",
       "      <th>description</th>\n",
       "      <th>genre</th>\n",
       "    </tr>\n",
       "  </thead>\n",
       "  <tbody>\n",
       "    <tr>\n",
       "      <th>526</th>\n",
       "      <td>suspiria</td>\n",
       "      <td>1977</td>\n",
       "      <td>Susy Bannion przyjeżdża do najsłynniejszej wie...</td>\n",
       "      <td>horror</td>\n",
       "    </tr>\n",
       "    <tr>\n",
       "      <th>354</th>\n",
       "      <td>the meaning of life</td>\n",
       "      <td>1983</td>\n",
       "      <td>Grupa Monty Pythona postanawia pokazać czym je...</td>\n",
       "      <td>comedy</td>\n",
       "    </tr>\n",
       "    <tr>\n",
       "      <th>168</th>\n",
       "      <td>anything else</td>\n",
       "      <td>2003</td>\n",
       "      <td>Jerry zaprzyjaźnia się ze starszym mężczyzną, ...</td>\n",
       "      <td>comedy</td>\n",
       "    </tr>\n",
       "    <tr>\n",
       "      <th>135</th>\n",
       "      <td>yyyreek!!! kosmiczna nominacja</td>\n",
       "      <td>2002</td>\n",
       "      <td>Irek zatrzymuje się w zakopiańskim pensjonacie...</td>\n",
       "      <td>comedy</td>\n",
       "    </tr>\n",
       "    <tr>\n",
       "      <th>937</th>\n",
       "      <td>linconnu du lac</td>\n",
       "      <td>2013</td>\n",
       "      <td>Podczas cruisingu po plaży dla gejów główny bo...</td>\n",
       "      <td>drama</td>\n",
       "    </tr>\n",
       "    <tr>\n",
       "      <th>...</th>\n",
       "      <td>...</td>\n",
       "      <td>...</td>\n",
       "      <td>...</td>\n",
       "      <td>...</td>\n",
       "    </tr>\n",
       "    <tr>\n",
       "      <th>1130</th>\n",
       "      <td>virginia</td>\n",
       "      <td>2010</td>\n",
       "      <td>Szeryf Tipton (Ed Harris) startuje w wyborach...</td>\n",
       "      <td>drama</td>\n",
       "    </tr>\n",
       "    <tr>\n",
       "      <th>1294</th>\n",
       "      <td>i still see you</td>\n",
       "      <td>2018</td>\n",
       "      <td>Dziesięć lat po apokalipsie, w efekcie której...</td>\n",
       "      <td>thriller</td>\n",
       "    </tr>\n",
       "    <tr>\n",
       "      <th>860</th>\n",
       "      <td>the music never stopped</td>\n",
       "      <td>2011</td>\n",
       "      <td>Gabriel cierpi na guza mózgu, który powoduje z...</td>\n",
       "      <td>drama</td>\n",
       "    </tr>\n",
       "    <tr>\n",
       "      <th>1459</th>\n",
       "      <td>diabolique</td>\n",
       "      <td>1996</td>\n",
       "      <td>Przyjaźniące się nauczycielki w szkole katolic...</td>\n",
       "      <td>thriller</td>\n",
       "    </tr>\n",
       "    <tr>\n",
       "      <th>1126</th>\n",
       "      <td>the rider</td>\n",
       "      <td>2017</td>\n",
       "      <td>Kowboj doznaje poważnego wypadku, ale nie chce...</td>\n",
       "      <td>drama</td>\n",
       "    </tr>\n",
       "  </tbody>\n",
       "</table>\n",
       "<p>1600 rows × 4 columns</p>\n",
       "</div>"
      ],
      "text/plain": [
       "                               title  year  \\\n",
       "526                         suspiria  1977   \n",
       "354              the meaning of life  1983   \n",
       "168                    anything else  2003   \n",
       "135   yyyreek!!! kosmiczna nominacja  2002   \n",
       "937                  linconnu du lac  2013   \n",
       "...                              ...   ...   \n",
       "1130                        virginia  2010   \n",
       "1294                 i still see you  2018   \n",
       "860          the music never stopped  2011   \n",
       "1459                      diabolique  1996   \n",
       "1126                       the rider  2017   \n",
       "\n",
       "                                            description     genre  \n",
       "526   Susy Bannion przyjeżdża do najsłynniejszej wie...    horror  \n",
       "354   Grupa Monty Pythona postanawia pokazać czym je...    comedy  \n",
       "168   Jerry zaprzyjaźnia się ze starszym mężczyzną, ...    comedy  \n",
       "135   Irek zatrzymuje się w zakopiańskim pensjonacie...    comedy  \n",
       "937   Podczas cruisingu po plaży dla gejów główny bo...     drama  \n",
       "...                                                 ...       ...  \n",
       "1130   Szeryf Tipton (Ed Harris) startuje w wyborach...     drama  \n",
       "1294   Dziesięć lat po apokalipsie, w efekcie której...  thriller  \n",
       "860   Gabriel cierpi na guza mózgu, który powoduje z...     drama  \n",
       "1459  Przyjaźniące się nauczycielki w szkole katolic...  thriller  \n",
       "1126  Kowboj doznaje poważnego wypadku, ale nie chce...     drama  \n",
       "\n",
       "[1600 rows x 4 columns]"
      ]
     },
     "execution_count": 46,
     "metadata": {},
     "output_type": "execute_result"
    }
   ],
   "source": [
    "df_filmweb_sampled.sample(frac=1., random_state=42)"
   ]
  },
  {
   "cell_type": "code",
   "execution_count": 47,
   "metadata": {},
   "outputs": [
    {
     "data": {
      "text/html": [
       "<div>\n",
       "<style scoped>\n",
       "    .dataframe tbody tr th:only-of-type {\n",
       "        vertical-align: middle;\n",
       "    }\n",
       "\n",
       "    .dataframe tbody tr th {\n",
       "        vertical-align: top;\n",
       "    }\n",
       "\n",
       "    .dataframe thead th {\n",
       "        text-align: right;\n",
       "    }\n",
       "</style>\n",
       "<table border=\"1\" class=\"dataframe\">\n",
       "  <thead>\n",
       "    <tr style=\"text-align: right;\">\n",
       "      <th></th>\n",
       "      <th>title</th>\n",
       "      <th>year</th>\n",
       "      <th>description</th>\n",
       "      <th>genre</th>\n",
       "    </tr>\n",
       "  </thead>\n",
       "  <tbody>\n",
       "    <tr>\n",
       "      <th>526</th>\n",
       "      <td>san chuen liu see</td>\n",
       "      <td>1999</td>\n",
       "      <td>\"A Wicked Ghost\" starts with four youngsters ...</td>\n",
       "      <td>horror</td>\n",
       "    </tr>\n",
       "    <tr>\n",
       "      <th>354</th>\n",
       "      <td>oute gata, oute zimia</td>\n",
       "      <td>1955</td>\n",
       "      <td>Lalakis is married with Poppe. He goes on a t...</td>\n",
       "      <td>comedy</td>\n",
       "    </tr>\n",
       "    <tr>\n",
       "      <th>168</th>\n",
       "      <td>all together now</td>\n",
       "      <td>2003</td>\n",
       "      <td>The story revolves around the three main cast...</td>\n",
       "      <td>comedy</td>\n",
       "    </tr>\n",
       "    <tr>\n",
       "      <th>135</th>\n",
       "      <td>caught in the act</td>\n",
       "      <td>2008</td>\n",
       "      <td>CAUGHT IN THE ACT is a hilarious, heart-warmi...</td>\n",
       "      <td>comedy</td>\n",
       "    </tr>\n",
       "    <tr>\n",
       "      <th>937</th>\n",
       "      <td>parampara</td>\n",
       "      <td>2003</td>\n",
       "      <td>The film follows the poor life of grand mothe...</td>\n",
       "      <td>drama</td>\n",
       "    </tr>\n",
       "    <tr>\n",
       "      <th>...</th>\n",
       "      <td>...</td>\n",
       "      <td>...</td>\n",
       "      <td>...</td>\n",
       "      <td>...</td>\n",
       "    </tr>\n",
       "    <tr>\n",
       "      <th>1130</th>\n",
       "      <td>amma</td>\n",
       "      <td>1986</td>\n",
       "      <td>On The Day Of Marriage Of Shanta (Rakhi Gulza...</td>\n",
       "      <td>drama</td>\n",
       "    </tr>\n",
       "    <tr>\n",
       "      <th>1294</th>\n",
       "      <td>dead dreams</td>\n",
       "      <td>2011</td>\n",
       "      <td>Carl finds himself in a deserted motel suffer...</td>\n",
       "      <td>thriller</td>\n",
       "    </tr>\n",
       "    <tr>\n",
       "      <th>860</th>\n",
       "      <td>ambush in leopard street</td>\n",
       "      <td>1962</td>\n",
       "      <td>A former thief comes out of retirement for on...</td>\n",
       "      <td>drama</td>\n",
       "    </tr>\n",
       "    <tr>\n",
       "      <th>1459</th>\n",
       "      <td>gumnam hai koi</td>\n",
       "      <td>2001</td>\n",
       "      <td>Ila lives a wealthy lifestyle in Mumbai along...</td>\n",
       "      <td>thriller</td>\n",
       "    </tr>\n",
       "    <tr>\n",
       "      <th>1126</th>\n",
       "      <td>boyhood</td>\n",
       "      <td>NaN</td>\n",
       "      <td>Filmed over 12 years with the same cast, 'Ric...</td>\n",
       "      <td>drama</td>\n",
       "    </tr>\n",
       "  </tbody>\n",
       "</table>\n",
       "<p>1600 rows × 4 columns</p>\n",
       "</div>"
      ],
      "text/plain": [
       "                         title  year  \\\n",
       "526          san chuen liu see  1999   \n",
       "354      oute gata, oute zimia  1955   \n",
       "168           all together now  2003   \n",
       "135          caught in the act  2008   \n",
       "937                  parampara  2003   \n",
       "...                        ...   ...   \n",
       "1130                      amma  1986   \n",
       "1294               dead dreams  2011   \n",
       "860   ambush in leopard street  1962   \n",
       "1459            gumnam hai koi  2001   \n",
       "1126                   boyhood   NaN   \n",
       "\n",
       "                                            description     genre  \n",
       "526    \"A Wicked Ghost\" starts with four youngsters ...    horror  \n",
       "354    Lalakis is married with Poppe. He goes on a t...    comedy  \n",
       "168    The story revolves around the three main cast...    comedy  \n",
       "135    CAUGHT IN THE ACT is a hilarious, heart-warmi...    comedy  \n",
       "937    The film follows the poor life of grand mothe...     drama  \n",
       "...                                                 ...       ...  \n",
       "1130   On The Day Of Marriage Of Shanta (Rakhi Gulza...     drama  \n",
       "1294   Carl finds himself in a deserted motel suffer...  thriller  \n",
       "860    A former thief comes out of retirement for on...     drama  \n",
       "1459   Ila lives a wealthy lifestyle in Mumbai along...  thriller  \n",
       "1126   Filmed over 12 years with the same cast, 'Ric...     drama  \n",
       "\n",
       "[1600 rows x 4 columns]"
      ]
     },
     "execution_count": 47,
     "metadata": {},
     "output_type": "execute_result"
    }
   ],
   "source": [
    "df_imdb_all_sampled.sample(frac=1., random_state=42)"
   ]
  },
  {
   "cell_type": "code",
   "execution_count": 48,
   "metadata": {},
   "outputs": [],
   "source": [
    "## Let's do some more EDA now"
   ]
  },
  {
   "cell_type": "code",
   "execution_count": 49,
   "metadata": {},
   "outputs": [
    {
     "data": {
      "image/png": "[encoded data removed]",
      "text/plain": [
       "<Figure size 432x288 with 1 Axes>"
      ]
     },
     "metadata": {
      "needs_background": "light"
     },
     "output_type": "display_data"
    }
   ],
   "source": [
    "## The same as with imdb dataset (right now at least)\n",
    "df_filmweb_sampled.groupby(\"genre\").size().plot.bar(edgecolor=\"k\")\n",
    "plt.show()"
   ]
  },
  {
   "cell_type": "markdown",
   "metadata": {},
   "source": [
    "Let's check for average number of words by genre in two datasets"
   ]
  },
  {
   "cell_type": "code",
   "execution_count": 90,
   "metadata": {},
   "outputs": [],
   "source": [
    "df_filmweb_sampled[\"words_per_description\"] = df_filmweb_sampled[\"description\"].str.split().apply(len)\n",
    "df_imdb_all_sampled[\"words_per_description\"] = df_imdb_all_sampled[\"description\"].str.split().apply(len)"
   ]
  },
  {
   "cell_type": "code",
   "execution_count": 91,
   "metadata": {},
   "outputs": [],
   "source": [
    "percentile97 = df_imdb_all_sampled[\"words_per_description\"].quantile(0.97)"
   ]
  },
  {
   "cell_type": "code",
   "execution_count": 92,
   "metadata": {},
   "outputs": [
    {
     "data": {
      "text/plain": [
       "283.03"
      ]
     },
     "execution_count": 92,
     "metadata": {},
     "output_type": "execute_result"
    }
   ],
   "source": [
    "percentile97"
   ]
  },
  {
   "cell_type": "code",
   "execution_count": 93,
   "metadata": {},
   "outputs": [
    {
     "data": {
      "image/png": "[encoded data removed]",
      "text/plain": [
       "<Figure size 1500x600 with 1 Axes>"
      ]
     },
     "metadata": {},
     "output_type": "display_data"
    }
   ],
   "source": [
    "df_filmweb_sampled.boxplot(\"words_per_description\", by=\"genre\", grid=False,\n",
    "showfliers=False, color=\"black\", figsize=(15, 6))\n",
    "plt.ylim((-10, percentile97))\n",
    "plt.title(\"Words per description - Filmweb\")\n",
    "plt.suptitle(\"\")\n",
    "plt.xlabel(\"\")\n",
    "plt.show()"
   ]
  },
  {
   "cell_type": "code",
   "execution_count": 94,
   "metadata": {},
   "outputs": [
    {
     "data": {
      "image/png": "[encoded data removed]",
      "text/plain": [
       "<Figure size 1500x600 with 1 Axes>"
      ]
     },
     "metadata": {},
     "output_type": "display_data"
    }
   ],
   "source": [
    "df_imdb_all_sampled.boxplot(\"words_per_description\", by=\"genre\", grid=False,\n",
    "showfliers=False, color=\"black\", figsize=(15, 6))\n",
    "plt.title(\"Words per description - IMDB\")\n",
    "plt.ylim(-10, percentile97)\n",
    "plt.suptitle(\"\")\n",
    "plt.xlabel(\"\")\n",
    "plt.show()"
   ]
  },
  {
   "cell_type": "markdown",
   "metadata": {},
   "source": [
    "#### Some tests with oversampling\n",
    "This might be needed because classes are heavely imbalanced, but to get something better than random over sampling we would first have to get the feature vector\n",
    "which will be produced by BERT(at least that's what we plan to use at the moment)"
   ]
  },
  {
   "cell_type": "code",
   "execution_count": 49,
   "metadata": {},
   "outputs": [],
   "source": [
    "from imblearn.over_sampling import RandomOverSampler"
   ]
  },
  {
   "cell_type": "code",
   "execution_count": 50,
   "metadata": {},
   "outputs": [],
   "source": [
    "X_filmweb, y_filmweb = df_filmweb_sampled[[\"title\", \"description\"]], df_filmweb_sampled[\"genre\"]"
   ]
  },
  {
   "cell_type": "code",
   "execution_count": 51,
   "metadata": {},
   "outputs": [
    {
     "data": {
      "text/plain": [
       "(2000, 2)"
      ]
     },
     "execution_count": 51,
     "metadata": {},
     "output_type": "execute_result"
    }
   ],
   "source": [
    "np.array(X_filmweb).reshape(-1, 2).shape"
   ]
  },
  {
   "cell_type": "code",
   "execution_count": 52,
   "metadata": {},
   "outputs": [],
   "source": [
    "ros = RandomOverSampler(random_state=0)"
   ]
  },
  {
   "cell_type": "code",
   "execution_count": 53,
   "metadata": {},
   "outputs": [],
   "source": [
    "X_resampled, y_resampled = ros.fit_resample(np.array(X_filmweb).reshape(-1, 2), np.array(y_filmweb).reshape(-1, 1))"
   ]
  },
  {
   "cell_type": "code",
   "execution_count": 54,
   "metadata": {},
   "outputs": [
    {
     "data": {
      "text/plain": [
       "drama        0.2\n",
       "thriller     0.2\n",
       "comedy       0.2\n",
       "horror       0.2\n",
       "biography    0.2\n",
       "dtype: float64"
      ]
     },
     "execution_count": 54,
     "metadata": {},
     "output_type": "execute_result"
    }
   ],
   "source": [
    "pd.Series(y_resampled).value_counts(normalize=True)"
   ]
  },
  {
   "cell_type": "code",
   "execution_count": 55,
   "metadata": {},
   "outputs": [
    {
     "data": {
      "text/html": [
       "<div>\n",
       "<style scoped>\n",
       "    .dataframe tbody tr th:only-of-type {\n",
       "        vertical-align: middle;\n",
       "    }\n",
       "\n",
       "    .dataframe tbody tr th {\n",
       "        vertical-align: top;\n",
       "    }\n",
       "\n",
       "    .dataframe thead th {\n",
       "        text-align: right;\n",
       "    }\n",
       "</style>\n",
       "<table border=\"1\" class=\"dataframe\">\n",
       "  <thead>\n",
       "    <tr style=\"text-align: right;\">\n",
       "      <th></th>\n",
       "      <th>title</th>\n",
       "      <th>description</th>\n",
       "    </tr>\n",
       "  </thead>\n",
       "  <tbody>\n",
       "    <tr>\n",
       "      <th>0</th>\n",
       "      <td>bak-jwi</td>\n",
       "      <td>Podczas badań nad śmiertelnym wirusem ksiądz z...</td>\n",
       "    </tr>\n",
       "    <tr>\n",
       "      <th>1</th>\n",
       "      <td>la solitudine dei numeri primi</td>\n",
       "      <td>Adaptacja książki Paolo Giordano pt. \"Samotno...</td>\n",
       "    </tr>\n",
       "    <tr>\n",
       "      <th>2</th>\n",
       "      <td>wu ji</td>\n",
       "      <td>Kilkuletnia Qingcheng składa przysięgę, na moc...</td>\n",
       "    </tr>\n",
       "    <tr>\n",
       "      <th>3</th>\n",
       "      <td>il conformista</td>\n",
       "      <td>Faszystowskie Włochy. Marcello (Jean-Louis Tr...</td>\n",
       "    </tr>\n",
       "    <tr>\n",
       "      <th>4</th>\n",
       "      <td>ondskan</td>\n",
       "      <td>Erik trafia do elitarnego internatu. W nowym m...</td>\n",
       "    </tr>\n",
       "    <tr>\n",
       "      <th>...</th>\n",
       "      <td>...</td>\n",
       "      <td>...</td>\n",
       "    </tr>\n",
       "    <tr>\n",
       "      <th>1995</th>\n",
       "      <td>house of gucci</td>\n",
       "      <td>Historia Patrizii Reggiani, byłej żony Maurizi...</td>\n",
       "    </tr>\n",
       "    <tr>\n",
       "      <th>1996</th>\n",
       "      <td>fur: an imaginary portrait of diane arbus</td>\n",
       "      <td>Gdy Diane Arbus poznaje ekscentrycznego sąsiad...</td>\n",
       "    </tr>\n",
       "    <tr>\n",
       "      <th>1997</th>\n",
       "      <td>anna and the king</td>\n",
       "      <td>Na dwór króla Syjamu przybywa angielska guwern...</td>\n",
       "    </tr>\n",
       "    <tr>\n",
       "      <th>1998</th>\n",
       "      <td>monster</td>\n",
       "      <td>Historia amerykańskiej prostytutki, która po d...</td>\n",
       "    </tr>\n",
       "    <tr>\n",
       "      <th>1999</th>\n",
       "      <td>unbroken</td>\n",
       "      <td>Podczas II wojny światowej biegacz olimpijski,...</td>\n",
       "    </tr>\n",
       "  </tbody>\n",
       "</table>\n",
       "<p>2000 rows × 2 columns</p>\n",
       "</div>"
      ],
      "text/plain": [
       "                                          title  \\\n",
       "0                                       bak-jwi   \n",
       "1                la solitudine dei numeri primi   \n",
       "2                                         wu ji   \n",
       "3                                il conformista   \n",
       "4                                       ondskan   \n",
       "...                                         ...   \n",
       "1995                             house of gucci   \n",
       "1996  fur: an imaginary portrait of diane arbus   \n",
       "1997                          anna and the king   \n",
       "1998                                    monster   \n",
       "1999                                   unbroken   \n",
       "\n",
       "                                            description  \n",
       "0     Podczas badań nad śmiertelnym wirusem ksiądz z...  \n",
       "1      Adaptacja książki Paolo Giordano pt. \"Samotno...  \n",
       "2     Kilkuletnia Qingcheng składa przysięgę, na moc...  \n",
       "3      Faszystowskie Włochy. Marcello (Jean-Louis Tr...  \n",
       "4     Erik trafia do elitarnego internatu. W nowym m...  \n",
       "...                                                 ...  \n",
       "1995  Historia Patrizii Reggiani, byłej żony Maurizi...  \n",
       "1996  Gdy Diane Arbus poznaje ekscentrycznego sąsiad...  \n",
       "1997  Na dwór króla Syjamu przybywa angielska guwern...  \n",
       "1998  Historia amerykańskiej prostytutki, która po d...  \n",
       "1999  Podczas II wojny światowej biegacz olimpijski,...  \n",
       "\n",
       "[2000 rows x 2 columns]"
      ]
     },
     "execution_count": 55,
     "metadata": {},
     "output_type": "execute_result"
    }
   ],
   "source": [
    "pd.DataFrame(X_resampled, columns=[\"title\", \"description\"])"
   ]
  },
  {
   "cell_type": "code",
   "execution_count": null,
   "metadata": {},
   "outputs": [],
   "source": []
  }
 ],
 "metadata": {
  "kernelspec": {
   "display_name": "general",
   "language": "python",
   "name": "python3"
  },
  "language_info": {
   "codemirror_mode": {
    "name": "ipython",
    "version": 3
   },
   "file_extension": ".py",
   "mimetype": "text/x-python",
   "name": "python",
   "nbconvert_exporter": "python",
   "pygments_lexer": "ipython3",
   "version": "3.9.4"
  },
  "vscode": {
   "interpreter": {
    "hash": "e504b13805a571caf9e9c36f147e70d112d45db5bb6c2cff7e2eb0040a5df090"
   }
  }
 },
 "nbformat": 4,
 "nbformat_minor": 2
}
